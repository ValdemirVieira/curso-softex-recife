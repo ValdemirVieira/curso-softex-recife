{
  "nbformat": 4,
  "nbformat_minor": 0,
  "metadata": {
    "colab": {
      "name": "desafio17-logica-programacao.ipynb",
      "provenance": [],
      "authorship_tag": "ABX9TyN6LrEOS/gFm9DFXiPx3nPq",
      "include_colab_link": true
    },
    "kernelspec": {
      "name": "python3",
      "display_name": "Python 3"
    },
    "language_info": {
      "name": "python"
    }
  },
  "cells": [
    {
      "cell_type": "markdown",
      "metadata": {
        "id": "view-in-github",
        "colab_type": "text"
      },
      "source": [
        "<a href=\"https://colab.research.google.com/github/ValdemirVieira/curso-softex-recife/blob/main/desafio17_logica_programacao.ipynb\" target=\"_parent\"><img src=\"https://colab.research.google.com/assets/colab-badge.svg\" alt=\"Open In Colab\"/></a>"
      ]
    },
    {
      "cell_type": "code",
      "execution_count": null,
      "metadata": {
        "id": "zmR11N1gKhCE"
      },
      "outputs": [],
      "source": [
        "def calculadora(n1, n2, op):\n",
        "  if op == 1:\n",
        "    res = n1 + n2\n",
        "  elif op == 2:\n",
        "    res = n1 - n2\n",
        "  elif op == 3:\n",
        "    res = n1 * n2\n",
        "  elif op == 4:\n",
        "    res = n1 / n2\n",
        "  else:\n",
        "    res = 0\n",
        "\n",
        "  return res\n",
        "\n",
        "op = None\n",
        "print('Calculadora iniciada!')\n",
        "while op != 0:\n",
        "  print('1. Somar')\n",
        "  print('2. Subtrair')\n",
        "  print('3. Multiplicação')\n",
        "  print('4. Divisão')\n",
        "  print('0. Sair')\n",
        "  op = int(input('Escolha uma das opções: '))\n",
        "  if op > 4:\n",
        "    print('Essa opção não existe!')\n",
        "  elif op == 0:\n",
        "    print('Calculadora encerrada!')\n",
        "  else:\n",
        "    n1 = float(input('Insira um número: '))\n",
        "    n2 = float(input('\\nInsira outro número: '))\n",
        "    res = str(calculadora(n1, n2, op))\n",
        "    print('O resultado da operação é: ' + res)"
      ]
    }
  ]
}