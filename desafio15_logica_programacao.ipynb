{
  "nbformat": 4,
  "nbformat_minor": 0,
  "metadata": {
    "colab": {
      "name": "desafio15-logica-programacao.ipynb",
      "provenance": [],
      "authorship_tag": "ABX9TyPD246Jgb65eEyJ82FqAzXe",
      "include_colab_link": true
    },
    "kernelspec": {
      "name": "python3",
      "display_name": "Python 3"
    },
    "language_info": {
      "name": "python"
    }
  },
  "cells": [
    {
      "cell_type": "markdown",
      "metadata": {
        "id": "view-in-github",
        "colab_type": "text"
      },
      "source": [
        "<a href=\"https://colab.research.google.com/github/ValdemirVieira/curso-softex-recife/blob/main/desafio15_logica_programacao.ipynb\" target=\"_parent\"><img src=\"https://colab.research.google.com/assets/colab-badge.svg\" alt=\"Open In Colab\"/></a>"
      ]
    },
    {
      "cell_type": "code",
      "execution_count": 5,
      "metadata": {
        "colab": {
          "base_uri": "https://localhost:8080/"
        },
        "id": "Rd46UPF83WN9",
        "outputId": "7dc65574-7a5c-4e9f-d257-f506909a4cec"
      },
      "outputs": [
        {
          "output_type": "stream",
          "name": "stdout",
          "text": [
            "Iniciando a contagem regressiva\n",
            "10\n",
            "9\n",
            "8\n",
            "7\n",
            "6\n",
            "5\n",
            "4\n",
            "3\n",
            "2\n",
            "1\n",
            "BUM!\n"
          ]
        }
      ],
      "source": [
        "import time\n",
        "\n",
        "print('Iniciando a contagem regressiva!')\n",
        "for cont in range(10, 0, -1):\n",
        "  print(cont)\n",
        "  time.sleep(1)\n",
        "print('BUM!')"
      ]
    }
  ]
}