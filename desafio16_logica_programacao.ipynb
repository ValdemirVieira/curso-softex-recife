{
  "nbformat": 4,
  "nbformat_minor": 0,
  "metadata": {
    "colab": {
      "name": "desafio16-logica-programacao.ipynb",
      "provenance": [],
      "authorship_tag": "ABX9TyNrMn0kkUNFl4fsvjpWuX9M",
      "include_colab_link": true
    },
    "kernelspec": {
      "name": "python3",
      "display_name": "Python 3"
    },
    "language_info": {
      "name": "python"
    }
  },
  "cells": [
    {
      "cell_type": "markdown",
      "metadata": {
        "id": "view-in-github",
        "colab_type": "text"
      },
      "source": [
        "<a href=\"https://colab.research.google.com/github/ValdemirVieira/curso-softex-recife/blob/main/desafio16_logica_programacao.ipynb\" target=\"_parent\"><img src=\"https://colab.research.google.com/assets/colab-badge.svg\" alt=\"Open In Colab\"/></a>"
      ]
    },
    {
      "cell_type": "code",
      "execution_count": 3,
      "metadata": {
        "colab": {
          "base_uri": "https://localhost:8080/"
        },
        "id": "gPCMQSfPz0sx",
        "outputId": "4379f89c-308a-412a-f7f3-bc57bdca92e0"
      },
      "outputs": [
        {
          "output_type": "stream",
          "name": "stdout",
          "text": [
            "Insira um número: 22\n",
            "\n",
            "Insira outro número: 13\n",
            "\n",
            " Qual operação deseja realizar? 1- soma, 2- subtração, 3- multiplicação, 4- divisão 1\n",
            "O resultado da operação é: 35.0\n"
          ]
        }
      ],
      "source": [
        "n1 = float(input('Insira um número: '))\n",
        "n2 = float(input('\\nInsira outro número: '))\n",
        "op = int(input('\\n Qual operação deseja realizar? 1- soma, 2- subtração, 3- multiplicação, 4- divisão '))\n",
        "\n",
        "def calculadora(n1, n2, op):\n",
        "  if op == 1:\n",
        "    res = n1 + n2\n",
        "  elif op == 2:\n",
        "    res = n1 - n2\n",
        "  elif op == 3:\n",
        "    res = n1 * n2\n",
        "  elif op == 4:\n",
        "    res = n1 / n2\n",
        "  else:\n",
        "    res = 0\n",
        "\n",
        "  return res\n",
        "\n",
        "res = str(calculadora(n1, n2, op))\n",
        "print('O resultado da operação é: ' + res)"
      ]
    }
  ]
}